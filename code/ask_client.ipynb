{
 "cells": [
  {
   "cell_type": "code",
   "execution_count": 1,
   "metadata": {},
   "outputs": [
    {
     "name": "stderr",
     "output_type": "stream",
     "text": [
      "/Users/bradenjones/build-an-agent-3/venv/lib/python3.12/site-packages/langchain_nvidia_ai_endpoints/_common.py:220: UserWarning: Found nvidia/llama-3.3-nemotron-super-49b-v1.5 in available_models, but type is unknown and inference may fail.\n",
      "  warnings.warn(\n",
      "/Users/bradenjones/build-an-agent-3/venv/lib/python3.12/site-packages/langchain_nvidia_ai_endpoints/chat_models.py:629: UserWarning: Model 'nvidia/llama-3.3-nemotron-super-49b-v1.5' is not known to support tools. Your tool binding may fail at inference time.\n",
      "  warnings.warn(\n"
     ]
    },
    {
     "name": "stdout",
     "output_type": "stream",
     "text": [
      "<think>\n",
      "Okay, let's tackle this. The user is asking about the return policy of ShopRight. The provided document has some key points.\n",
      "\n",
      "First, the return period is 30 days. So items can be returned within that time. Then, they mention needing a receipt and the item to be in original condition. That's important for the user to know. Also, there's a note that clearance items can't be returned, only exchanges after 30 days. Wait, the last line says \"Exchanges only after 30 days.\" Hmm, does that mean exchanges are allowed after 30 days, but returns aren't? Or is it that after 30 days, you can only exchange, not return? The original policy says returns within 30 days, so after that, maybe exchanges are the only option. But the user is asking specifically about the return policy, so the main points are the 30-day window, receipt required, original condition, and no returns on clearance items. The exchanges part might be additional info but not directly part of the return policy. I should make sure to clarify that returns are within 30 days, the requirements, and the exceptions. The user might also need to know about exchanges if they're past the 30 days, but since the question is about the return policy, focus on that. Let me structure the answer clearly with bullet points or a concise summary.\n",
      "</think>\n",
      "\n",
      "The return policy for ShopRight is as follows:  \n",
      "- **Timeframe**: Items can be returned **within 30 days** of purchase.  \n",
      "- **Requirements**:  \n",
      "  - A **receipt** is required.  \n",
      "  - The item must be in its **original condition**.  \n",
      "- **Exceptions**:  \n",
      "  - **Clearance items** cannot be returned.  \n",
      "  - After 30 days, **exchanges only** are permitted (returns are not allowed).  \n",
      "\n",
      "This information is directly from the provided document. Let me know if you need further clarification!\n"
     ]
    }
   ],
   "source": [
    "import os, sys\n",
    "from dotenv import load_dotenv\n",
    "\n",
    "# ✅ Load env first — BEFORE importing any module that uses an API key\n",
    "load_dotenv(\"../variables.env\")\n",
    "\n",
    "# ✅ Add the code dir so Python can find docgen_agent\n",
    "sys.path.insert(0, \"code\")\n",
    "\n",
    "# ✅ Confirm env variables are loaded\n",
    "assert os.getenv(\"TAVILY_API_KEY\"), \"TAVILY_API_KEY not loaded!\"\n",
    "assert os.getenv(\"NVIDIA_API_KEY\"), \"NVIDIA_API_KEY not loaded!\"\n",
    "\n",
    "# ✅ Import AskVision graph\n",
    "from docgen_agent.ask import graph, ResearcherState\n",
    "\n",
    "# 🧠 Define the webpage/document content\n",
    "document_text = \"\"\"\n",
    "Welcome to ShopRight! Our return policy allows items to be returned within 30 days.\n",
    "Please ensure you have your receipt and that the item is in original condition.\n",
    "No returns on clearance items. Exchanges only after 30 days.\n",
    "\"\"\"\n",
    "\n",
    "# ❓ Ask a question about the document\n",
    "state = ResearcherState(\n",
    "    topic=\"What is the return policy?\",\n",
    "    document=document_text,\n",
    "    number_of_queries=0,\n",
    "    messages=[]\n",
    ")\n",
    "\n",
    "# 🚀 Run the agent\n",
    "output = await graph.ainvoke(state)\n",
    "\n",
    "# 📄 Show the answer\n",
    "print(output[\"messages\"][-1].content)\n",
    "\n",
    "\n"
   ]
  }
 ],
 "metadata": {
  "kernelspec": {
   "display_name": "venv",
   "language": "python",
   "name": "python3"
  },
  "language_info": {
   "codemirror_mode": {
    "name": "ipython",
    "version": 3
   },
   "file_extension": ".py",
   "mimetype": "text/x-python",
   "name": "python",
   "nbconvert_exporter": "python",
   "pygments_lexer": "ipython3",
   "version": "3.12.6"
  }
 },
 "nbformat": 4,
 "nbformat_minor": 2
}
